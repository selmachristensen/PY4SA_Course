{
 "cells": [
  {
   "cell_type": "markdown",
   "id": "7afc7bb2-2bc7-41a3-86a5-e2dac387f9c3",
   "metadata": {},
   "source": [
    "# Assignment No. 2 - Selma Christensen \n",
    "## 180021112\n",
    "-----\n",
    "### https://github.com/selmachristensen/PY4SA3_Assignment\n"
   ]
  },
  {
   "cell_type": "markdown",
   "id": "5c3aafc2-e95e-4bc5-a5f2-efdbf377ec13",
   "metadata": {},
   "source": [
    "#### Python Basics"
   ]
  },
  {
   "cell_type": "markdown",
   "id": "52bb866e-4740-4a77-a464-a996b3feacae",
   "metadata": {},
   "source": [
    "----\n",
    "\n",
    "**Task 1**  Create an If...Else statement that will test whether a number is divisible by three. \"YOUR VALUE is divisible by 3\" should be printed if the value is divisible by three. \"YOUR VALUE is not divisible by three\" should be printed if it is not divisible by three. Test the statement on a numeric variable. Upper case text in the print statement should be replaced with the tested number"
   ]
  },
  {
   "cell_type": "code",
   "execution_count": 6,
   "id": "c5e08d05-9ddf-4eff-8468-aa6a493b964b",
   "metadata": {},
   "outputs": [
    {
     "name": "stdout",
     "output_type": "stream",
     "text": [
      "5 is not divisible by 3\n"
     ]
    }
   ],
   "source": [
    "Number = 5\n",
    "\n",
    "if Number /3 == 0:\n",
    "    print(f\"{Number} is divisible by 3\")\n",
    "else:\n",
    "    print(f\"{Number} is not divisible by 3\")\n",
    "    "
   ]
  },
  {
   "cell_type": "markdown",
   "id": "2d12d0c8-f5b4-48c1-952f-dbe154340928",
   "metadata": {},
   "source": [
    "----\n",
    "**Task 2** Create an If...Else statement that will test whether a type of fruit, represented as a text string, is in a list of acceptable fruits (apple, orange, pear, kiwi, or strawberry). If the fruit is on the list, the following should be printed: \"YOUR FRUIT is acceptable.\" If not, then the following should be printed: \"YOUR FRUIT is not acceptable.\" Upper case text in the print statement should be replaced with the tested fruit.\n"
   ]
  },
  {
   "cell_type": "code",
   "execution_count": 7,
   "id": "49c8807a-8514-455a-b2b4-9d9e42e281b7",
   "metadata": {},
   "outputs": [
    {
     "name": "stdout",
     "output_type": "stream",
     "text": [
      "PEAR is acceptable.\n"
     ]
    }
   ],
   "source": [
    "fruits = [\"apple\", \"orange\", \"pear\", \"kiwi\", \"strawberry\"]\n",
    "x = \"pear\"\n",
    "\n",
    "if x in fruits:\n",
    "    print(f\"{x.upper()} is acceptable.\")\n",
    "else:\n",
    "    print(f\"{x.upper()} is not acceptable.\")"
   ]
  },
  {
   "cell_type": "markdown",
   "id": "c9a45632-4c5c-48ac-afeb-02fb69962c41",
   "metadata": {},
   "source": [
    "---\n",
    "**Task 3** Create a function to calculate the distance between two coordinates using the haversine formula. Write the following formula where the input parameters are a pair of coordinates as two lists."
   ]
  },
  {
   "cell_type": "code",
   "execution_count": 8,
   "id": "bd8bb408-0f58-4402-9aba-fa75cc5a5699",
   "metadata": {},
   "outputs": [],
   "source": [
    "from math import radians, sin, cos, sqrt, atan2\n",
    "\n",
    "def haversine_distance(coord1, coord2):\n",
    "    R = 6371  # Earth's radius in km\n",
    "    lat1, lon1 = map(radians, coord1)\n",
    "    lat2, lon2 = map(radians, coord2)\n",
    "    dlat = lat2 - lat1\n",
    "    dlon = lon2 - lon1\n",
    "    a = sin(dlat/2)**2 + cos(lat1) * cos(lat2) * sin(dlon/2)**2\n",
    "    c = 2 * atan2(sqrt(a), sqrt(1-a))\n",
    "    distance = R * c\n",
    "    return distance"
   ]
  },
  {
   "cell_type": "code",
   "execution_count": 9,
   "id": "ecbd63be-e2ea-42fb-a758-411cb5be49d3",
   "metadata": {},
   "outputs": [
    {
     "name": "stdout",
     "output_type": "stream",
     "text": [
      "The distance between London and Edinburgh is 533.65 km\n"
     ]
    }
   ],
   "source": [
    "coord1 = [51.5074, -0.1278]  # London\n",
    "coord2 = [55.9533, -3.1883]  # Edinburgh\n",
    "distance = haversine_distance(coord1, coord2)\n",
    "print(f\"The distance between London and Edinburgh is {distance:.2f} km\")"
   ]
  },
  {
   "cell_type": "code",
   "execution_count": null,
   "id": "5b911e4b-e539-4334-8413-e9ff64a7470e",
   "metadata": {},
   "outputs": [],
   "source": []
  }
 ],
 "metadata": {
  "kernelspec": {
   "display_name": "Python 3 (ipykernel)",
   "language": "python",
   "name": "python3"
  },
  "language_info": {
   "codemirror_mode": {
    "name": "ipython",
    "version": 3
   },
   "file_extension": ".py",
   "mimetype": "text/x-python",
   "name": "python",
   "nbconvert_exporter": "python",
   "pygments_lexer": "ipython3",
   "version": "3.10.9"
  }
 },
 "nbformat": 4,
 "nbformat_minor": 5
}
